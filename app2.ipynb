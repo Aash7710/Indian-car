{
 "cells": [
  {
   "cell_type": "code",
   "execution_count": null,
   "id": "fc356307",
   "metadata": {
    "scrolled": false
   },
   "outputs": [
    {
     "name": "stderr",
     "output_type": "stream",
     "text": [
      "C:\\Users\\aashp\\AppData\\Roaming\\Python\\Python311\\site-packages\\pandas\\core\\arrays\\masked.py:60: UserWarning: Pandas requires version '1.3.6' or newer of 'bottleneck' (version '1.3.5' currently installed).\n",
      "  from pandas.core import (\n"
     ]
    },
    {
     "name": "stdout",
     "output_type": "stream",
     "text": [
      "loaded\n",
      " * Serving Flask app '__main__'\n",
      " * Debug mode: off\n"
     ]
    },
    {
     "name": "stderr",
     "output_type": "stream",
     "text": [
      "WARNING: This is a development server. Do not use it in a production deployment. Use a production WSGI server instead.\n",
      " * Running on http://127.0.0.1:5000\n",
      "Press CTRL+C to quit\n",
      "127.0.0.1 - - [03/Aug/2024 23:19:55] \"GET / HTTP/1.1\" 200 -\n",
      "127.0.0.1 - - [03/Aug/2024 23:19:55] \"GET /static/styless.css HTTP/1.1\" 200 -\n"
     ]
    },
    {
     "name": "stdout",
     "output_type": "stream",
     "text": [
      "done\n"
     ]
    },
    {
     "name": "stderr",
     "output_type": "stream",
     "text": [
      "127.0.0.1 - - [03/Aug/2024 23:20:49] \"POST /predict HTTP/1.1\" 200 -\n"
     ]
    },
    {
     "name": "stdout",
     "output_type": "stream",
     "text": [
      "[6192425.]\n"
     ]
    }
   ],
   "source": [
    "from flask import Flask,render_template,request,redirect\n",
    "from flask_cors import CORS,cross_origin\n",
    "import pickle\n",
    "import pandas as pd\n",
    "import numpy as np\n",
    "import os\n",
    "\n",
    "os.chdir('C:\\\\Users\\\\aashp\\\\OneDrive\\\\Desktop\\\\flask\\\\Indian car\\\\')\n",
    "model123=pickle.load(open('etgmodel.pkl','rb'))\n",
    "app=Flask(__name__)\n",
    "cors=CORS(app)\n",
    "print('loaded')\n",
    "car=pd.read_csv('cleaned.csv')\n",
    "\n",
    "@app.route('/')\n",
    "def index():\n",
    "    \n",
    "    models=sorted(car['model'].unique())\n",
    "    vehicle_ages=sorted(car['vehicle_age'].unique())\n",
    "    \n",
    "    seller_types=sorted(car['seller_type'].unique())\n",
    "    fuel_types=sorted(car['fuel_type'].unique())\n",
    "    transmission_types=sorted(car['transmission_type'].unique())\n",
    "    \n",
    "    \n",
    "    \n",
    "    seats=sorted(car['seats'].unique())\n",
    "    print('done')\n",
    "    \n",
    "\n",
    "    \n",
    "    return render_template('indexx.html',models=models,vehicle_ages=vehicle_ages,seller_types=seller_types,fuel_types=fuel_types,transmission_types=transmission_types,seats=seats)\n",
    "\n",
    "@app.route('/predict',methods=['POST'])\n",
    "@cross_origin()\n",
    "def predict():\n",
    "        \n",
    "\n",
    "    model=request.form.get('model')\n",
    "    vehicle_age=int(request.form.get('vehicle_age'))\n",
    "    km_driven=request.form.get('km_driven')\n",
    "    seller_type=request.form.get('seller_type')\n",
    "    fuel_type=request.form.get('fuel_type')\n",
    "    transmission_type=request.form.get('transmission_type')\n",
    "    mileage=request.form.get('mileage')\n",
    "    engine=request.form.get('engine')\n",
    "    max_power=request.form.get('max_power')\n",
    "    seats=request.form.get('seats')\n",
    "\n",
    "    prediction=model123.predict(pd.DataFrame(columns=['model', 'vehicle_age', 'km_driven','seller_type', 'fuel_type','transmission_type','mileage','engine','max_power','seats'],\n",
    "                              data=np.array([model, vehicle_age, km_driven,seller_type, fuel_type,transmission_type,mileage,engine,max_power,seats]).reshape(1, 10)))\n",
    "    print(prediction)\n",
    "\n",
    "    return str(np.round(prediction[0],2))\n",
    "\n",
    "\n",
    "\n",
    "if __name__=='__main__':\n",
    "    app.run()"
   ]
  },
  {
   "cell_type": "code",
   "execution_count": null,
   "id": "916fe704",
   "metadata": {},
   "outputs": [],
   "source": []
  }
 ],
 "metadata": {
  "kernelspec": {
   "display_name": "Python 3 (ipykernel)",
   "language": "python",
   "name": "python3"
  },
  "language_info": {
   "codemirror_mode": {
    "name": "ipython",
    "version": 3
   },
   "file_extension": ".py",
   "mimetype": "text/x-python",
   "name": "python",
   "nbconvert_exporter": "python",
   "pygments_lexer": "ipython3",
   "version": "3.11.3"
  }
 },
 "nbformat": 4,
 "nbformat_minor": 5
}
